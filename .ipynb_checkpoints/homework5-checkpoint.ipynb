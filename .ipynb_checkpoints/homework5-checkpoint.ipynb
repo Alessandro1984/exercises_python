{
 "cells": [
  {
   "cell_type": "code",
   "execution_count": 1,
   "id": "83f445c2",
   "metadata": {},
   "outputs": [],
   "source": [
    "import pandas as pd\n",
    "import numpy as np"
   ]
  },
  {
   "cell_type": "code",
   "execution_count": 10,
   "id": "779cd68c",
   "metadata": {},
   "outputs": [
    {
     "data": {
      "text/html": [
       "<div>\n",
       "<style scoped>\n",
       "    .dataframe tbody tr th:only-of-type {\n",
       "        vertical-align: middle;\n",
       "    }\n",
       "\n",
       "    .dataframe tbody tr th {\n",
       "        vertical-align: top;\n",
       "    }\n",
       "\n",
       "    .dataframe thead th {\n",
       "        text-align: right;\n",
       "    }\n",
       "</style>\n",
       "<table border=\"1\" class=\"dataframe\">\n",
       "  <thead>\n",
       "    <tr style=\"text-align: right;\">\n",
       "      <th></th>\n",
       "      <th>Date</th>\n",
       "      <th>Close</th>\n",
       "      <th>ln_Returns</th>\n",
       "    </tr>\n",
       "  </thead>\n",
       "  <tbody>\n",
       "    <tr>\n",
       "      <th>130</th>\n",
       "      <td>2011-01-03</td>\n",
       "      <td>1.774667</td>\n",
       "      <td>NaN</td>\n",
       "    </tr>\n",
       "    <tr>\n",
       "      <th>131</th>\n",
       "      <td>2011-01-04</td>\n",
       "      <td>1.778000</td>\n",
       "      <td>0.187634</td>\n",
       "    </tr>\n",
       "    <tr>\n",
       "      <th>132</th>\n",
       "      <td>2011-01-05</td>\n",
       "      <td>1.788667</td>\n",
       "      <td>0.598151</td>\n",
       "    </tr>\n",
       "    <tr>\n",
       "      <th>133</th>\n",
       "      <td>2011-01-06</td>\n",
       "      <td>1.858667</td>\n",
       "      <td>3.838891</td>\n",
       "    </tr>\n",
       "    <tr>\n",
       "      <th>134</th>\n",
       "      <td>2011-01-07</td>\n",
       "      <td>1.882667</td>\n",
       "      <td>1.282982</td>\n",
       "    </tr>\n",
       "  </tbody>\n",
       "</table>\n",
       "</div>"
      ],
      "text/plain": [
       "          Date     Close  ln_Returns\n",
       "130 2011-01-03  1.774667         NaN\n",
       "131 2011-01-04  1.778000    0.187634\n",
       "132 2011-01-05  1.788667    0.598151\n",
       "133 2011-01-06  1.858667    3.838891\n",
       "134 2011-01-07  1.882667    1.282982"
      ]
     },
     "execution_count": 10,
     "metadata": {},
     "output_type": "execute_result"
    }
   ],
   "source": [
    "file = \"data/TSLA.csv\"\n",
    "\n",
    "df = pd.read_csv(file)\n",
    "\n",
    "df.head()\n",
    "\n",
    "df = df[['Date', 'Close']]\n",
    "\n",
    "df['Date'] = pd.to_datetime(df['Date'], format = '%Y-%m-%d')\n",
    "\n",
    "df = df[(df['Date'].dt.year >= 2011) & (df['Date'].dt.year <= 2022)]\n",
    "\n",
    "df['ln_Returns'] = (np.log(df['Close']) - np.log(df['Close'].shift(1))) * 100\n",
    "\n",
    "df.head()"
   ]
  },
  {
   "cell_type": "code",
   "execution_count": 11,
   "id": "5b77664b",
   "metadata": {},
   "outputs": [
    {
     "data": {
      "text/plain": [
       "Date\n",
       "2011    0.028026\n",
       "2012    0.068209\n",
       "2013    0.591654\n",
       "2014    0.155168\n",
       "2015    0.030221\n",
       "2016   -0.046093\n",
       "2017    0.149957\n",
       "2018    0.026543\n",
       "2019    0.090765\n",
       "2020    0.842812\n",
       "2021    0.160252\n",
       "2022   -0.418615\n",
       "Name: ln_Returns, dtype: float64"
      ]
     },
     "execution_count": 11,
     "metadata": {},
     "output_type": "execute_result"
    }
   ],
   "source": [
    "df_avg = df['ln_Returns'].groupby(df['Date'].dt.year).mean()\n",
    "df_avg"
   ]
  },
  {
   "cell_type": "code",
   "execution_count": 15,
   "id": "7f353088",
   "metadata": {},
   "outputs": [
    {
     "data": {
      "text/plain": [
       "{2011: 0.028,\n",
       " 2012: 0.068,\n",
       " 2013: 0.592,\n",
       " 2014: 0.155,\n",
       " 2015: 0.03,\n",
       " 2016: -0.046,\n",
       " 2017: 0.15,\n",
       " 2018: 0.027,\n",
       " 2019: 0.091,\n",
       " 2020: 0.843,\n",
       " 2021: 0.16,\n",
       " 2022: -0.419}"
      ]
     },
     "execution_count": 15,
     "metadata": {},
     "output_type": "execute_result"
    }
   ],
   "source": [
    "years = list(df_avg.index)\n",
    "values = list(np.round(df_avg.values, 3))\n",
    "\n",
    "my_dictionary = {k:v for k,v in zip(years, values)}\n",
    "my_dictionary"
   ]
  }
 ],
 "metadata": {
  "kernelspec": {
   "display_name": "Python 3 (ipykernel)",
   "language": "python",
   "name": "python3"
  },
  "language_info": {
   "codemirror_mode": {
    "name": "ipython",
    "version": 3
   },
   "file_extension": ".py",
   "mimetype": "text/x-python",
   "name": "python",
   "nbconvert_exporter": "python",
   "pygments_lexer": "ipython3",
   "version": "3.10.6"
  },
  "toc": {
   "base_numbering": 1,
   "nav_menu": {},
   "number_sections": true,
   "sideBar": true,
   "skip_h1_title": false,
   "title_cell": "Table of Contents",
   "title_sidebar": "Contents",
   "toc_cell": false,
   "toc_position": {},
   "toc_section_display": true,
   "toc_window_display": false
  }
 },
 "nbformat": 4,
 "nbformat_minor": 5
}
